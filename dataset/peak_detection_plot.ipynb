import matlab.engine
import numpy as np
import scipy.signal as signal
from matplotlib import pyplot as plt
from scipy.signal import find_peaks
import neurokit2 as nk

def auto_peak_detection(signal, factor=10.0, distance=1):
    med = np.median(signal)
    mad = np.median(np.abs(signal - med))
    threshold = med + factor * mad
    peaks, properties = find_peaks(signal, height=threshold, distance=distance, prominence=mad)
    return peaks


eng = matlab.engine.start_matlab()

eng.addpath(r'D:\code_zongheng\foundation_model\dataset', nargout=0)

data_path_1 = r"D:\code_zongheng\foundation_model\saved_data\ecg_segments\3213671_0006.npy"
# data_path_2 = "D:\\code_zongheng\\foundation_model\\saved_data\\ecg_segments\\3047608_0006.npy"
# data_path_3 = "D:\\code_zongheng\\foundation_model\\saved_data\\ecg_segments\\3047608_0007.npy"

ecg_signals_1 = np.load(data_path_1)
# ecg_signals_2 = np.load(data_path_2)
# ecg_signals_3 = np.load(data_path_3)

ecg_signal_1 = ecg_signals_1[0]
ecg_signal_2 = ecg_signals_1[3385]
ecg_signal_3 = ecg_signals_1[3402]
ecg_signal_4 = ecg_signals_1[3403]

fs = 40

# ecg_resampled_1 = signal.resample_poly(ecg_signal_1, up=5, down=1)
# ecg_resampled_2 = signal.resample_poly(ecg_signal_2, up=5, down=1)
# ecg_resampled_3 = signal.resample_poly(ecg_signal_3, up=5, down=1)
# ecg_resampled_4 = signal.resample_poly(ecg_signal_4, up=5, down=1)

# ecg_matlab_1 = matlab.double(ecg_signal_1.tolist())
# ecg_matlab_2 = matlab.double(ecg_signal_2.tolist())
# ecg_matlab_3 = matlab.double(ecg_signal_3.tolist())
# ecg_matlab_4 = matlab.double(ecg_signal_4.tolist())

signals, info = nk.ecg_peaks(ecg_signal_1, sampling_rate=40, correct_artifacts=False, show=True)
print(signals["ECG_R_Peaks"])
# r_peaks_2 = auto_peak_detection(ecg_signal_2)
# r_peaks_3 = auto_peak_detection(ecg_signal_3)
# r_peaks_4 = auto_peak_detection(ecg_signal_4)
#
# eng.quit()
#
# # r_peaks_1 = np.array([float(p[0]) for p in r_peaks_matlab_1])  # MATLAB double -> NumPy
# # r_peaks_1 = r_peaks_1.astype(int)
# #
# # r_peaks_2 = np.array([float(p[0]) for p in r_peaks_matlab_2])  # MATLAB double -> NumPy
# # r_peaks_2 = r_peaks_2.astype(int)
# #
# # r_peaks_3 = np.array([float(p[0]) for p in r_peaks_matlab_3])  # MATLAB double -> NumPy
# # r_peaks_3 = r_peaks_3.astype(int)
# #
# # r_peaks_4 = np.array([float(p[0]) for p in r_peaks_matlab_4])  # MATLAB double -> NumPy
# # r_peaks_4 = r_peaks_4.astype(int)
#
# t = np.arange(0, len(ecg_signal_1) / fs, 1 / fs)
#
# # plt.figure(figsize=(12, 5))
# plt.subplot(2, 2, 1)
# plt.plot(t, ecg_signal_1, label="ECG Signal", color='b')
# plt.scatter(r_peaks_1 / fs, ecg_signal_1[r_peaks_1], color='r', marker='o', label="QRS Peaks")
# plt.xlabel("Time (s)")
# plt.ylabel("Amplitude")
# plt.title("ECG Signal with 63.63% score")
# plt.legend()
# plt.grid()
#
# plt.subplot(2, 2, 2)
# plt.plot(t, ecg_signal_2, label="ECG Signal", color='b')
# plt.scatter(r_peaks_2 / fs, ecg_signal_2[r_peaks_2], color='r', marker='o', label="QRS Peaks")
# plt.xlabel("Time (s)")
# plt.ylabel("Amplitude")
# plt.title("ECG Signal with 75% score")
# plt.legend()
# plt.grid()
#
# plt.subplot(2, 2, 3)
# plt.plot(t, ecg_signal_3, label="ECG Signal", color='b')
# plt.scatter(r_peaks_3 / fs, ecg_signal_3[r_peaks_3], color='r', marker='o', label="QRS Peaks")
# plt.xlabel("Time (s)")
# plt.ylabel("Amplitude")
# plt.title("ECG Signal with 14% score")
# plt.legend()
# plt.grid()
#
# plt.subplot(2, 2, 4)
# plt.plot(t, ecg_signal_4, label="ECG Signal", color='b')
# plt.scatter(r_peaks_4 / fs, ecg_signal_4[r_peaks_4], color='r', marker='o', label="QRS Peaks")
# plt.xlabel("Time (s)")
# plt.ylabel("Amplitude")
# plt.title("ECG Signal with 13% score")
# plt.legend()
# plt.grid()
#
# plt.show()